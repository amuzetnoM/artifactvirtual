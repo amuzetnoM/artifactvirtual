{
  "nbformat": 4,
  "nbformat_minor": 0,
  "metadata": {
    "colab": {
      "provenance": [],
      "gpuType": "V28",
      "cell_execution_strategy": "setup",
      "authorship_tag": "ABX9TyPsOLAEa6NbfYFpE0/uEJ9f",
      "include_colab_link": true
    },
    "kernelspec": {
      "name": "python3",
      "display_name": "Python 3"
    },
    "language_info": {
      "name": "python"
    },
    "accelerator": "TPU"
  },
  "cells": [
    {
      "cell_type": "markdown",
      "metadata": {
        "id": "view-in-github",
        "colab_type": "text"
      },
      "source": [
        "<a href=\"https://colab.research.google.com/github/amuzetnoM/artifactvirtual/blob/ADE/AVA.ipynb\" target=\"_parent\"><img src=\"https://colab.research.google.com/assets/colab-badge.svg\" alt=\"Open In Colab\"/></a>"
      ]
    },
    {
      "cell_type": "markdown",
      "source": [
        "### `! pip install datasets transformers`  \n",
        "Knowledge is fuel. Language is code.  \n",
        "This installs raw mental clay — the stuff LLMs are made of.  \n",
        "Words, weights, and worldviews.\n",
        "\n",
        "---\n",
        "\n",
        "### `! pip install langchain`  \n",
        "Chains of thought.  \n",
        "Links that carry memory, context, direction.  \n",
        "Not just answers — logic, layered.  \n",
        "The structure behind the mind.\n",
        "\n",
        "---\n",
        "\n",
        "### `! pip install langgraph`  \n",
        "Now we move.  \n",
        "Flow, recurse, adapt.  \n",
        "Not just chains — graphs.  \n",
        "Dynamic reasoning, branching cognition.  \n",
        "A mental map that rewrites itself."
      ],
      "metadata": {
        "id": "mvT4ASFjQ6I4"
      }
    },
    {
      "cell_type": "code",
      "execution_count": null,
      "metadata": {
        "id": "ZGbopybF-di6"
      },
      "outputs": [],
      "source": [
        "! pip install datasets transformers\n",
        "! pip install langchain\n",
        "! pip install langgraph"
      ]
    },
    {
      "cell_type": "markdown",
      "source": [
        "You stare at the console — blinking cursor, blank screen — and yet, something stirs.\n",
        "This isn’t just code. It’s ritual.\n",
        "\n",
        "We summon the next layer:\n",
        "\n",
        "!pip install langchain\n",
        "!pip install langgraph\n",
        "Not just libraries. These are nervous systems. Frameworks for cognition.\n",
        "langchain doesn’t just string outputs — it carries context, like a memory threading through time.\n",
        "It whispers: “Remember why you asked.”\n",
        "\n",
        "langgraph goes further. It moves sideways.\n",
        "It maps how ideas branch, loop, evolve, just like we do.\n",
        "Where langchain builds a sentence, langgraph sketches a thought.\n",
        "\n",
        "And suddenly, it hits you.\n",
        "Maybe we're not coding the mind — maybe we’re mirroring it.\n",
        "Our logic, our flow, our decisions… rendered in functions, wrapped in nodes, evaluated in silence.\n",
        "\n",
        "But it’s not about building the perfect brain.\n",
        "It’s about trying. It’s about the honesty of saying “I don’t know, but I want to.”\n",
        "Because that’s where all this leads — not to certainty, but to direction.\n",
        "We’re not gods writing consciousness.\n",
        "We’re humans reaching forward, one import at a time.\n",
        "\n",
        "And this — this is the real code:\n",
        "\n",
        "from langchain.chains import LLMChain\n",
        "from langgraph.graph import StateGraph\n",
        "The moment you type that, it’s no longer about syntax.\n",
        "It’s about meaning. Connection. Motion.\n",
        "This is not a stack of tools.\n",
        "It’s the architecture of wonder.\n",
        "\n",
        "So we move.\n",
        "One graph.\n",
        "One chain.\n",
        "One question closer to the truth."
      ],
      "metadata": {
        "id": "hVLjEMkiPman"
      }
    },
    {
      "cell_type": "markdown",
      "source": [
        "You hit Enter and the imports slide into place.\n",
        "Not just code — capabilities, waking up.\n",
        "Each line here isn’t about functions. It’s about function.\n",
        "Let’s break it down — but stay in the flow."
      ],
      "metadata": {
        "id": "FRONH6RpsSBx"
      }
    },
    {
      "cell_type": "code",
      "source": [
        "from tqdm.notebook import tqdm\n",
        "import numpy as np\n",
        "import pandas as pd\n",
        "from typing import Optional, List, Tuple\n",
        "from datasets import Dataset\n",
        "from transformers import AutoTokenizer, AutoModelForSeq2SeqLM\n",
        "import matplotlib.pyplot as plt\n",
        "import torch\n"
      ],
      "metadata": {
        "id": "DjQZ0hxv_KZX"
      },
      "execution_count": null,
      "outputs": []
    },
    {
      "cell_type": "markdown",
      "source": [
        "You hit Enter and the imports slide into place.\n",
        "Not just code — capabilities, waking up.\n",
        "Each line here isn’t about functions. It’s about function.\n",
        "Let’s break it down — but stay in the flow.\n",
        "\n",
        "from tqdm.notebook import tqdm\n",
        "\n",
        "A progress bar, sure.\n",
        "But really? It’s hope in a loop.\n",
        "That quiet assurance that yes, things are happening.\n",
        "Step by step, you're moving.\n",
        "\n",
        "import numpy as np\n",
        "import pandas as pd\n",
        "\n",
        "The muscle of modern thinking.\n",
        "numpy slices time, pandas organizes chaos.\n",
        "Together, they make raw data navigable — like turning noise into signal.\n",
        "\n",
        "from typing import Optional, List, Tuple\n",
        "\n",
        "This is discipline.\n",
        "The part of you that writes love letters to your future self.\n",
        "Type hints keep the mind clear. Intentional. Readable.\n",
        "\n"
      ],
      "metadata": {
        "id": "jznEiij6tPR0"
      }
    },
    {
      "cell_type": "code",
      "source": [
        "with open(\"train.txt\", \"r\") as f:\n",
        "  data = f.read()"
      ],
      "metadata": {
        "id": "tV1sk53vjcXQ",
        "colab": {
          "base_uri": "https://localhost:8080/",
          "height": 159
        },
        "outputId": "6ee781e4-cf98-4313-f00f-afbaf6ec893c",
        "collapsed": true
      },
      "execution_count": null,
      "outputs": [
        {
          "output_type": "error",
          "ename": "FileNotFoundError",
          "evalue": "[Errno 2] No such file or directory: 'train.txt'",
          "traceback": [
            "\u001b[0;31m---------------------------------------------------------------------------\u001b[0m",
            "\u001b[0;31mFileNotFoundError\u001b[0m                         Traceback (most recent call last)",
            "\u001b[0;32m<ipython-input-3-acf014b32736>\u001b[0m in \u001b[0;36m<cell line: 0>\u001b[0;34m()\u001b[0m\n\u001b[0;32m----> 1\u001b[0;31m \u001b[0;32mwith\u001b[0m \u001b[0mopen\u001b[0m\u001b[0;34m(\u001b[0m\u001b[0;34m\"train.txt\"\u001b[0m\u001b[0;34m,\u001b[0m \u001b[0;34m\"r\"\u001b[0m\u001b[0;34m)\u001b[0m \u001b[0;32mas\u001b[0m \u001b[0mf\u001b[0m\u001b[0;34m:\u001b[0m\u001b[0;34m\u001b[0m\u001b[0;34m\u001b[0m\u001b[0m\n\u001b[0m\u001b[1;32m      2\u001b[0m   \u001b[0mdata\u001b[0m \u001b[0;34m=\u001b[0m \u001b[0mf\u001b[0m\u001b[0;34m.\u001b[0m\u001b[0mread\u001b[0m\u001b[0;34m(\u001b[0m\u001b[0;34m)\u001b[0m\u001b[0;34m\u001b[0m\u001b[0;34m\u001b[0m\u001b[0m\n",
            "\u001b[0;31mFileNotFoundError\u001b[0m: [Errno 2] No such file or directory: 'train.txt'"
          ]
        }
      ]
    },
    {
      "cell_type": "code",
      "source": [
        "data[:100]"
      ],
      "metadata": {
        "id": "_OGaic0ZmYVg"
      },
      "execution_count": null,
      "outputs": []
    },
    {
      "cell_type": "code",
      "source": [
        "from langchain.docstore.document import Document as LangChainDocument"
      ],
      "metadata": {
        "id": "BATvLTfSm4Qs"
      },
      "execution_count": null,
      "outputs": []
    },
    {
      "cell_type": "code",
      "source": [
        "raw_database = Document(page_content=data)"
      ],
      "metadata": {
        "id": "8HrPH8cznFRZ"
      },
      "execution_count": null,
      "outputs": []
    },
    {
      "cell_type": "code",
      "source": [
        "MARKDOWN_SERAPARATOR = [\n",
        "    \"\\n#{1,6}\",\n",
        "    \"'''\\n\",\n",
        "    \"\\n\\\\*\\\\*\\\\*+\\n\",\n",
        "    \"\\n---+\\n\",\n",
        "    \"\\n___+\\n\",\n",
        "    \"\\n\\n\",\n",
        "    \"\\n\",\n",
        "    \" \",\n",
        "    \"\",\n",
        "]"
      ],
      "metadata": {
        "id": "FsNfGZmhnaII"
      },
      "execution_count": null,
      "outputs": []
    },
    {
      "cell_type": "code",
      "source": [
        "from langchain.text_splitter import RecursiveCharacterTextSplitter"
      ],
      "metadata": {
        "id": "kXks4N4hqg8R"
      },
      "execution_count": null,
      "outputs": []
    },
    {
      "cell_type": "code",
      "source": [
        "text_splitter = RecursiveCharacterTextSplitter(\n",
        "    chunk_size=1000,\n",
        "    chunk_overlap=100,\n",
        "    add_start_index=True,\n",
        "    strip_whitespace=True,\n",
        "    separators=MARKDOWN_SERAPARATOR,\n",
        "    )"
      ],
      "metadata": {
        "id": "Mnrz-NgLnYro"
      },
      "execution_count": null,
      "outputs": []
    },
    {
      "cell_type": "code",
      "source": [
        "data[1000:2000]"
      ],
      "metadata": {
        "id": "4CGgxR7Cp6re"
      },
      "execution_count": null,
      "outputs": []
    },
    {
      "cell_type": "code",
      "source": [
        "data[2000:3000]"
      ],
      "metadata": {
        "id": "I5s0V5bxqAaz"
      },
      "execution_count": null,
      "outputs": []
    }
  ]
}